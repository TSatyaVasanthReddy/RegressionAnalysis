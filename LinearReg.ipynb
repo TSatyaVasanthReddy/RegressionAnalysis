{
 "cells": [
  {
   "cell_type": "code",
   "execution_count": 1,
   "metadata": {
    "collapsed": true
   },
   "outputs": [],
   "source": [
    "import pandas as pd\n",
    "import matplotlib.pyplot as plt\n",
    "import numpy as np\n",
    "from sklearn.model_selection import KFold\n",
    "from sklearn.linear_model import LinearRegression\n",
    "from sklearn.metrics import mean_squared_error\n",
    "from sklearn.model_selection import cross_val_predict\n",
    "from sklearn.model_selection import train_test_split\n",
    "from sklearn.preprocessing import StandardScaler"
   ]
  },
  {
   "cell_type": "code",
   "execution_count": 2,
   "metadata": {
    "collapsed": true
   },
   "outputs": [],
   "source": [
    "dataset = pd.read_csv('network_backup_dataset.csv')"
   ]
  },
  {
   "cell_type": "code",
   "execution_count": 3,
   "metadata": {},
   "outputs": [
    {
     "data": {
      "text/html": [
       "<div>\n",
       "<style>\n",
       "    .dataframe thead tr:only-child th {\n",
       "        text-align: right;\n",
       "    }\n",
       "\n",
       "    .dataframe thead th {\n",
       "        text-align: left;\n",
       "    }\n",
       "\n",
       "    .dataframe tbody tr th {\n",
       "        vertical-align: top;\n",
       "    }\n",
       "</style>\n",
       "<table border=\"1\" class=\"dataframe\">\n",
       "  <thead>\n",
       "    <tr style=\"text-align: right;\">\n",
       "      <th></th>\n",
       "      <th>Week #</th>\n",
       "      <th>Day of Week</th>\n",
       "      <th>Backup Start Time - Hour of Day</th>\n",
       "      <th>Work-Flow-ID</th>\n",
       "      <th>File Name</th>\n",
       "      <th>Size of Backup (GB)</th>\n",
       "      <th>Backup Time (hour)</th>\n",
       "    </tr>\n",
       "  </thead>\n",
       "  <tbody>\n",
       "    <tr>\n",
       "      <th>0</th>\n",
       "      <td>1</td>\n",
       "      <td>Monday</td>\n",
       "      <td>1</td>\n",
       "      <td>work_flow_0</td>\n",
       "      <td>File_0</td>\n",
       "      <td>0.0</td>\n",
       "      <td>0</td>\n",
       "    </tr>\n",
       "    <tr>\n",
       "      <th>1</th>\n",
       "      <td>1</td>\n",
       "      <td>Monday</td>\n",
       "      <td>1</td>\n",
       "      <td>work_flow_2</td>\n",
       "      <td>File_12</td>\n",
       "      <td>0.0</td>\n",
       "      <td>0</td>\n",
       "    </tr>\n",
       "    <tr>\n",
       "      <th>2</th>\n",
       "      <td>1</td>\n",
       "      <td>Monday</td>\n",
       "      <td>1</td>\n",
       "      <td>work_flow_2</td>\n",
       "      <td>File_13</td>\n",
       "      <td>0.0</td>\n",
       "      <td>0</td>\n",
       "    </tr>\n",
       "    <tr>\n",
       "      <th>3</th>\n",
       "      <td>1</td>\n",
       "      <td>Monday</td>\n",
       "      <td>1</td>\n",
       "      <td>work_flow_2</td>\n",
       "      <td>File_14</td>\n",
       "      <td>0.0</td>\n",
       "      <td>0</td>\n",
       "    </tr>\n",
       "    <tr>\n",
       "      <th>4</th>\n",
       "      <td>1</td>\n",
       "      <td>Monday</td>\n",
       "      <td>1</td>\n",
       "      <td>work_flow_2</td>\n",
       "      <td>File_16</td>\n",
       "      <td>0.0</td>\n",
       "      <td>0</td>\n",
       "    </tr>\n",
       "  </tbody>\n",
       "</table>\n",
       "</div>"
      ],
      "text/plain": [
       "   Week # Day of Week  Backup Start Time - Hour of Day Work-Flow-ID File Name  \\\n",
       "0       1      Monday                                1  work_flow_0    File_0   \n",
       "1       1      Monday                                1  work_flow_2   File_12   \n",
       "2       1      Monday                                1  work_flow_2   File_13   \n",
       "3       1      Monday                                1  work_flow_2   File_14   \n",
       "4       1      Monday                                1  work_flow_2   File_16   \n",
       "\n",
       "   Size of Backup (GB)  Backup Time (hour)  \n",
       "0                  0.0                   0  \n",
       "1                  0.0                   0  \n",
       "2                  0.0                   0  \n",
       "3                  0.0                   0  \n",
       "4                  0.0                   0  "
      ]
     },
     "execution_count": 3,
     "metadata": {},
     "output_type": "execute_result"
    }
   ],
   "source": [
    "dataset.head()"
   ]
  },
  {
   "cell_type": "code",
   "execution_count": 4,
   "metadata": {
    "collapsed": true
   },
   "outputs": [],
   "source": [
    "df = dataset.replace({'Day of Week': {'Monday': 1, 'Tuesday': 2, 'Wednesday': 3, 'Thursday': 4, 'Friday': 5,\n",
    "                                  'Saturday': 6, 'Sunday': 7},\n",
    "                  'Work-Flow-ID': {'work_flow_0': 0, 'work_flow_1': 1, 'work_flow_2': 2, 'work_flow_3': 3,\n",
    "                                   'work_flow_4': 4},\n",
    "                  'File Name': {'File_0': 0, 'File_1': 1, 'File_2': 2, 'File_3': 3, 'File_4': 4, 'File_5': 5,\n",
    "                                'File_6': 6, 'File_7': 7, 'File_8': 8, 'File_9': 9, 'File_10': 10, 'File_11': 11,\n",
    "                                'File_12': 12, 'File_13': 13, 'File_14': 14, 'File_15': 15, 'File_16': 16,\n",
    "                                'File_17': 17, 'File_18': 18, 'File_19': 19, 'File_20': 20, 'File_21': 21,\n",
    "                                'File_22': 22,\n",
    "                                'File_23': 23, 'File_24': 24, 'File_25': 25, 'File_26': 26, 'File_27': 27,\n",
    "                                'File_28': 28, 'File_29': 29, }})"
   ]
  },
  {
   "cell_type": "code",
   "execution_count": 5,
   "metadata": {},
   "outputs": [
    {
     "data": {
      "text/html": [
       "<div>\n",
       "<style>\n",
       "    .dataframe thead tr:only-child th {\n",
       "        text-align: right;\n",
       "    }\n",
       "\n",
       "    .dataframe thead th {\n",
       "        text-align: left;\n",
       "    }\n",
       "\n",
       "    .dataframe tbody tr th {\n",
       "        vertical-align: top;\n",
       "    }\n",
       "</style>\n",
       "<table border=\"1\" class=\"dataframe\">\n",
       "  <thead>\n",
       "    <tr style=\"text-align: right;\">\n",
       "      <th></th>\n",
       "      <th>Week #</th>\n",
       "      <th>Day of Week</th>\n",
       "      <th>Backup Start Time - Hour of Day</th>\n",
       "      <th>Work-Flow-ID</th>\n",
       "      <th>File Name</th>\n",
       "      <th>Size of Backup (GB)</th>\n",
       "      <th>Backup Time (hour)</th>\n",
       "    </tr>\n",
       "  </thead>\n",
       "  <tbody>\n",
       "    <tr>\n",
       "      <th>0</th>\n",
       "      <td>1</td>\n",
       "      <td>1</td>\n",
       "      <td>1</td>\n",
       "      <td>0</td>\n",
       "      <td>0</td>\n",
       "      <td>0.0</td>\n",
       "      <td>0</td>\n",
       "    </tr>\n",
       "    <tr>\n",
       "      <th>1</th>\n",
       "      <td>1</td>\n",
       "      <td>1</td>\n",
       "      <td>1</td>\n",
       "      <td>2</td>\n",
       "      <td>12</td>\n",
       "      <td>0.0</td>\n",
       "      <td>0</td>\n",
       "    </tr>\n",
       "    <tr>\n",
       "      <th>2</th>\n",
       "      <td>1</td>\n",
       "      <td>1</td>\n",
       "      <td>1</td>\n",
       "      <td>2</td>\n",
       "      <td>13</td>\n",
       "      <td>0.0</td>\n",
       "      <td>0</td>\n",
       "    </tr>\n",
       "    <tr>\n",
       "      <th>3</th>\n",
       "      <td>1</td>\n",
       "      <td>1</td>\n",
       "      <td>1</td>\n",
       "      <td>2</td>\n",
       "      <td>14</td>\n",
       "      <td>0.0</td>\n",
       "      <td>0</td>\n",
       "    </tr>\n",
       "    <tr>\n",
       "      <th>4</th>\n",
       "      <td>1</td>\n",
       "      <td>1</td>\n",
       "      <td>1</td>\n",
       "      <td>2</td>\n",
       "      <td>16</td>\n",
       "      <td>0.0</td>\n",
       "      <td>0</td>\n",
       "    </tr>\n",
       "  </tbody>\n",
       "</table>\n",
       "</div>"
      ],
      "text/plain": [
       "   Week #  Day of Week  Backup Start Time - Hour of Day  Work-Flow-ID  \\\n",
       "0       1            1                                1             0   \n",
       "1       1            1                                1             2   \n",
       "2       1            1                                1             2   \n",
       "3       1            1                                1             2   \n",
       "4       1            1                                1             2   \n",
       "\n",
       "   File Name  Size of Backup (GB)  Backup Time (hour)  \n",
       "0          0                  0.0                   0  \n",
       "1         12                  0.0                   0  \n",
       "2         13                  0.0                   0  \n",
       "3         14                  0.0                   0  \n",
       "4         16                  0.0                   0  "
      ]
     },
     "execution_count": 5,
     "metadata": {},
     "output_type": "execute_result"
    }
   ],
   "source": [
    "df.head()"
   ]
  },
  {
   "cell_type": "code",
   "execution_count": 6,
   "metadata": {
    "collapsed": true
   },
   "outputs": [],
   "source": [
    "X = df[\n",
    "    ['Week #', 'Day of Week', 'Backup Start Time - Hour of Day', 'Work-Flow-ID', 'File Name']].values\n",
    "y = df['Size of Backup (GB)'].values"
   ]
  },
  {
   "cell_type": "markdown",
   "metadata": {},
   "source": [
    "### Part i"
   ]
  },
  {
   "cell_type": "code",
   "execution_count": 7,
   "metadata": {},
   "outputs": [
    {
     "name": "stdout",
     "output_type": "stream",
     "text": [
      "Coefficients: [ -4.46137250e-05  -2.40527826e-03   1.38306408e-03  -4.14520552e-04\n",
      "   4.85929375e-04]\n",
      "Intercept: 0.049413880522\n",
      "RMSE without cross validation: 0.106503866998\n"
     ]
    }
   ],
   "source": [
    "X_train, X_test, y_train, y_test = train_test_split(X, y, test_size=0.1, random_state=0)\n",
    "linreg = LinearRegression()\n",
    "linreg.fit(X_train, y_train)\n",
    "print (\"Coefficients:\", linreg.coef_)\n",
    "print (\"Intercept:\", linreg.intercept_)\n",
    "y_predict = linreg.predict(X_test)\n",
    "print(\"RMSE without cross validation:\", np.sqrt(mean_squared_error(y_test, y_predict)))"
   ]
  },
  {
   "cell_type": "code",
   "execution_count": 9,
   "metadata": {
    "collapsed": true
   },
   "outputs": [],
   "source": [
    "def perform_10fold(X,y,regressor):\n",
    "    kf = KFold(n_splits=10,random_state = 0)\n",
    "    i = 1\n",
    "    tr_l = []\n",
    "    ts_l = []\n",
    "    bestModel = None\n",
    "    min_ts_e = 10\n",
    "    for train_index, test_index in kf.split(X):\n",
    "        print(\"Fold : \",i)\n",
    "        X_train, X_test = X[train_index], X[test_index]\n",
    "        y_train, y_test = y[train_index], y[test_index]\n",
    "        regressor.fit(X_train,y_train)\n",
    "        train_preds = regressor.predict(X_train)\n",
    "        test_preds = regressor.predict(X_test)\n",
    "        tr_e = np.sqrt(mean_squared_error(y_train,train_preds))\n",
    "        print(\"Training RMSE : \",tr_e)\n",
    "        tr_l.append(tr_e)\n",
    "        ts_e = np.sqrt(mean_squared_error(y_test,test_preds))\n",
    "        print(\"Test RMSE : \",ts_e)\n",
    "        ts_l.append(ts_e)\n",
    "        if(ts_e<min_ts_e):\n",
    "            min_ts_e = ts_e\n",
    "            bestModel = regressor\n",
    "        i = i+1\n",
    "    return tr_l,ts_l, bestModel"
   ]
  },
  {
   "cell_type": "code",
   "execution_count": 10,
   "metadata": {},
   "outputs": [
    {
     "name": "stdout",
     "output_type": "stream",
     "text": [
      "Fold :  1\n",
      "Training RMSE :  0.103243157575\n",
      "Test RMSE :  0.106718052072\n",
      "Fold :  2\n",
      "Training RMSE :  0.103966777917\n",
      "Test RMSE :  0.100184614386\n",
      "Fold :  3\n",
      "Training RMSE :  0.103225799059\n",
      "Test RMSE :  0.106849773893\n",
      "Fold :  4\n",
      "Training RMSE :  0.103946429196\n",
      "Test RMSE :  0.100367091678\n",
      "Fold :  5\n",
      "Training RMSE :  0.103195112998\n",
      "Test RMSE :  0.107115854318\n",
      "Fold :  6\n",
      "Training RMSE :  0.103938382514\n",
      "Test RMSE :  0.100445336547\n",
      "Fold :  7\n",
      "Training RMSE :  0.103202631623\n",
      "Test RMSE :  0.10705026882\n",
      "Fold :  8\n",
      "Training RMSE :  0.103936385959\n",
      "Test RMSE :  0.10046664551\n",
      "Fold :  9\n",
      "Training RMSE :  0.103200989973\n",
      "Test RMSE :  0.107074185868\n",
      "Fold :  10\n",
      "Training RMSE :  0.103991600589\n",
      "Test RMSE :  0.0999471208611\n"
     ]
    }
   ],
   "source": [
    "regressor = LinearRegression()\n",
    "tr_l,ts_l,bestModel = perform_10fold(X,y,regressor)"
   ]
  },
  {
   "cell_type": "code",
   "execution_count": 12,
   "metadata": {},
   "outputs": [],
   "source": [
    "predicted = bestModel.predict(X)"
   ]
  },
  {
   "cell_type": "code",
   "execution_count": 13,
   "metadata": {},
   "outputs": [
    {
     "data": {
      "image/png": "[encoded data removed]",
      "text/plain": [
       "<matplotlib.figure.Figure at 0x273be859898>"
      ]
     },
     "metadata": {},
     "output_type": "display_data"
    }
   ],
   "source": [
    "fig, ax = plt.subplots()\n",
    "ax.scatter(y, predicted,color='blue')\n",
    "#ax.plot([y.min(), y.max()], [y.min(), y.max()], 'k--', lw=4)\n",
    "ax.set_xlabel('Actual')\n",
    "ax.set_ylabel('Fitted')\n",
    "plt.title('Fitted vs Actual')\n",
    "plt.show()"
   ]
  },
  {
   "cell_type": "code",
   "execution_count": 14,
   "metadata": {},
   "outputs": [
    {
     "data": {
      "image/png": "[encoded data removed]",
      "text/plain": [
       "<matplotlib.figure.Figure at 0x273bed6cc18>"
      ]
     },
     "metadata": {},
     "output_type": "display_data"
    }
   ],
   "source": [
    "plt.title('Residuals vs Fitted')\n",
    "plt.xlabel('Fitted')\n",
    "plt.ylabel('Residuals')\n",
    "plt.scatter(predicted, y - predicted, color='blue', lw=1, label='residual')\n",
    "#plt.plot([y.min(), y.max()], [0,0], 'k--', lw=4)\n",
    "plt.show()"
   ]
  },
  {
   "cell_type": "markdown",
   "metadata": {},
   "source": [
    "### Part ii"
   ]
  },
  {
   "cell_type": "code",
   "execution_count": 15,
   "metadata": {},
   "outputs": [
    {
     "name": "stdout",
     "output_type": "stream",
     "text": [
      "[-1.62003968 -1.51932107 -1.455772   -1.42689367 -1.68739471 -0.58531252\n",
      " -0.9891194 ]\n"
     ]
    }
   ],
   "source": [
    "scaler = StandardScaler()\n",
    "df2 = scaler.fit_transform(df)\n",
    "print(df2[0])"
   ]
  },
  {
   "cell_type": "code",
   "execution_count": 16,
   "metadata": {
    "collapsed": true
   },
   "outputs": [],
   "source": [
    "X_new = df2[:,0:5]\n",
    "y_new = df2[:,5]"
   ]
  },
  {
   "cell_type": "code",
   "execution_count": 17,
   "metadata": {},
   "outputs": [
    {
     "name": "stdout",
     "output_type": "stream",
     "text": [
      "Coefficients: [-0.00184992 -0.04606465  0.09071622 -0.00563138  0.04040322]\n",
      "Intercept: -0.0020642502433\n",
      "RMSE without cross validation: 1.02221148954\n"
     ]
    }
   ],
   "source": [
    "X_train, X_test, y_train, y_test = train_test_split(X_new, y_new, test_size=0.1, random_state=0)\n",
    "linreg = LinearRegression()\n",
    "linreg.fit(X_train, y_train)\n",
    "print (\"Coefficients:\", linreg.coef_)\n",
    "print (\"Intercept:\", linreg.intercept_)\n",
    "y_predict = linreg.predict(X_test)\n",
    "print(\"RMSE without cross validation:\", np.sqrt(mean_squared_error(y_test, y_predict)))"
   ]
  },
  {
   "cell_type": "code",
   "execution_count": 35,
   "metadata": {},
   "outputs": [
    {
     "name": "stdout",
     "output_type": "stream",
     "text": [
      "Fold :  1\n",
      "Training RMSE :  0.990915587057\n",
      "Test RMSE :  1.02426721249\n",
      "Fold :  2\n",
      "Training RMSE :  0.997860809307\n",
      "Test RMSE :  0.961560052115\n",
      "Fold :  3\n",
      "Training RMSE :  0.990748982073\n",
      "Test RMSE :  1.02553146292\n",
      "Fold :  4\n",
      "Training RMSE :  0.997665504703\n",
      "Test RMSE :  0.963311447526\n",
      "Fold :  5\n",
      "Training RMSE :  0.990454460899\n",
      "Test RMSE :  1.02808527129\n",
      "Fold :  6\n",
      "Training RMSE :  0.997588273599\n",
      "Test RMSE :  0.964062432504\n",
      "Fold :  7\n",
      "Training RMSE :  0.990526623774\n",
      "Test RMSE :  1.02745578946\n",
      "Fold :  8\n",
      "Training RMSE :  0.997569110901\n",
      "Test RMSE :  0.964266953403\n",
      "Fold :  9\n",
      "Training RMSE :  0.990510867406\n",
      "Test RMSE :  1.02768534245\n",
      "Fold :  10\n",
      "Training RMSE :  0.998099054371\n",
      "Test RMSE :  0.959280617415\n"
     ]
    }
   ],
   "source": [
    "regressor = LinearRegression()\n",
    "tr_l,ts_l,bestModel = perform_10fold(X_new,y_new,regressor)"
   ]
  },
  {
   "cell_type": "code",
   "execution_count": 36,
   "metadata": {},
   "outputs": [
    {
     "data": {
      "image/png": "[encoded data removed]",
      "text/plain": [
       "<matplotlib.figure.Figure at 0x273c0f29320>"
      ]
     },
     "metadata": {},
     "output_type": "display_data"
    }
   ],
   "source": [
    "predicted = bestModel.predict(X_new)\n",
    "fig, ax = plt.subplots()\n",
    "ax.scatter(y_new, predicted,color='blue')\n",
    "#ax.plot([y_new.min(), y_new.max()], [y_new.min(), y_new.max()], 'k--', lw=4)\n",
    "ax.set_xlabel('Actual')\n",
    "ax.set_ylabel('Fitted')\n",
    "plt.show()"
   ]
  },
  {
   "cell_type": "code",
   "execution_count": 37,
   "metadata": {},
   "outputs": [
    {
     "data": {
      "image/png": "[encoded data removed]",
      "text/plain": [
       "<matplotlib.figure.Figure at 0x273d4c41978>"
      ]
     },
     "metadata": {},
     "output_type": "display_data"
    }
   ],
   "source": [
    "plt.title('Residuals vs Fitted')\n",
    "plt.xlabel('Fitted')\n",
    "plt.ylabel('Residuals')\n",
    "plt.scatter(predicted, y_new - predicted, color='blue', lw=1, label='residual')\n",
    "#plt.plot([y_new.min(), y_new.max()], [0,0], 'k--', lw=4)\n",
    "plt.show()"
   ]
  },
  {
   "cell_type": "markdown",
   "metadata": {},
   "source": [
    "### Part iii"
   ]
  },
  {
   "cell_type": "code",
   "execution_count": 21,
   "metadata": {
    "collapsed": true
   },
   "outputs": [],
   "source": [
    "from sklearn.feature_selection import SelectKBest\n",
    "from sklearn.feature_selection import f_regression,mutual_info_regression"
   ]
  },
  {
   "cell_type": "code",
   "execution_count": 22,
   "metadata": {
    "collapsed": true
   },
   "outputs": [],
   "source": [
    "X = df[\n",
    "    ['Week #', 'Day of Week', 'Backup Start Time - Hour of Day', 'Work-Flow-ID', 'File Name']].values\n",
    "y = df['Size of Backup (GB)'].values"
   ]
  },
  {
   "cell_type": "code",
   "execution_count": 23,
   "metadata": {},
   "outputs": [
    {
     "data": {
      "text/plain": [
       "array([  8.45006257e-03,   3.88163798e+01,   1.50740934e+02,\n",
       "         2.61386654e+01,   2.53200943e+01])"
      ]
     },
     "execution_count": 23,
     "metadata": {},
     "output_type": "execute_result"
    }
   ],
   "source": [
    "selectbest = SelectKBest(f_regression,k=3)\n",
    "X_f = selectbest.fit_transform(X, y)\n",
    "selectbest.scores_"
   ]
  },
  {
   "cell_type": "markdown",
   "metadata": {},
   "source": [
    "#### Best features from f_regression = Day of the week, Backup time - hour of day, workflow id"
   ]
  },
  {
   "cell_type": "code",
   "execution_count": 24,
   "metadata": {},
   "outputs": [
    {
     "name": "stderr",
     "output_type": "stream",
     "text": [
      "C:\\Users\\shivu.soman\\Anaconda3\\lib\\site-packages\\sklearn\\utils\\validation.py:429: DataConversionWarning: Data with input dtype int64 was converted to float64 by the scale function.\n",
      "  warnings.warn(msg, _DataConversionWarning)\n"
     ]
    },
    {
     "data": {
      "text/plain": [
       "array([ 0.00285213,  0.22344383,  0.23596167,  0.27320755,  0.4347093 ])"
      ]
     },
     "execution_count": 24,
     "metadata": {},
     "output_type": "execute_result"
    }
   ],
   "source": [
    "selectbest2 = SelectKBest(mutual_info_regression,k=3)\n",
    "X_mi = selectbest2.fit_transform(X, y)\n",
    "selectbest2.scores_"
   ]
  },
  {
   "cell_type": "markdown",
   "metadata": {},
   "source": [
    "#### Best features from mutual_info_regression = Backup time - hour of day, workflow id, file name"
   ]
  },
  {
   "cell_type": "code",
   "execution_count": 29,
   "metadata": {},
   "outputs": [
    {
     "name": "stdout",
     "output_type": "stream",
     "text": [
      "Fold :  1\n",
      "Training RMSE :  0.103243693315\n",
      "Test RMSE :  0.106703921572\n",
      "Fold :  2\n",
      "Training RMSE :  0.103967592085\n",
      "Test RMSE :  0.10017006517\n",
      "Fold :  3\n",
      "Training RMSE :  0.103225856311\n",
      "Test RMSE :  0.106848983926\n",
      "Fold :  4\n",
      "Training RMSE :  0.103946646253\n",
      "Test RMSE :  0.100364814404\n",
      "Fold :  5\n",
      "Training RMSE :  0.103195198107\n",
      "Test RMSE :  0.107115636526\n",
      "Fold :  6\n",
      "Training RMSE :  0.103938426941\n",
      "Test RMSE :  0.100445512392\n",
      "Fold :  7\n",
      "Training RMSE :  0.103202884586\n",
      "Test RMSE :  0.107047633732\n",
      "Fold :  8\n",
      "Training RMSE :  0.103936467419\n",
      "Test RMSE :  0.100464690829\n",
      "Fold :  9\n",
      "Training RMSE :  0.103201641248\n",
      "Test RMSE :  0.107064190055\n",
      "Fold :  10\n",
      "Training RMSE :  0.103991747011\n",
      "Test RMSE :  0.0999416817071\n"
     ]
    }
   ],
   "source": [
    "regressor = LinearRegression()\n",
    "tr_l,ts_l,bestModel_f = perform_10fold(X_f,y,regressor)"
   ]
  },
  {
   "cell_type": "code",
   "execution_count": 30,
   "metadata": {},
   "outputs": [
    {
     "data": {
      "image/png": "[encoded data removed]",
      "text/plain": [
       "<matplotlib.figure.Figure at 0x273bed985f8>"
      ]
     },
     "metadata": {},
     "output_type": "display_data"
    }
   ],
   "source": [
    "predicted = bestModel_f.predict(X_f)\n",
    "fig, ax = plt.subplots()\n",
    "ax.scatter(y, predicted,color='blue')\n",
    "#ax.plot([y_new.min(), y_new.max()], [y_new.min(), y_new.max()], 'k--', lw=4)\n",
    "ax.set_xlabel('Actual')\n",
    "ax.set_ylabel('Fitted')\n",
    "plt.show()"
   ]
  },
  {
   "cell_type": "code",
   "execution_count": 31,
   "metadata": {},
   "outputs": [
    {
     "data": {
      "image/png": "[encoded data removed]",
      "text/plain": [
       "<matplotlib.figure.Figure at 0x273bef21630>"
      ]
     },
     "metadata": {},
     "output_type": "display_data"
    }
   ],
   "source": [
    "plt.title('Residuals vs Fitted')\n",
    "plt.xlabel('Fitted')\n",
    "plt.ylabel('Residuals')\n",
    "plt.scatter(predicted, y - predicted, color='blue', lw=1, label='residual')\n",
    "#plt.plot([y_new.min(), y_new.max()], [0,0], 'k--', lw=4)\n",
    "plt.show()"
   ]
  },
  {
   "cell_type": "code",
   "execution_count": 32,
   "metadata": {},
   "outputs": [
    {
     "name": "stdout",
     "output_type": "stream",
     "text": [
      "Fold :  1\n",
      "Training RMSE :  0.103344438318\n",
      "Test RMSE :  0.10687608756\n",
      "Fold :  2\n",
      "Training RMSE :  0.104085466786\n",
      "Test RMSE :  0.100186646413\n",
      "Fold :  3\n",
      "Training RMSE :  0.103325621354\n",
      "Test RMSE :  0.107030075687\n",
      "Fold :  4\n",
      "Training RMSE :  0.104063726743\n",
      "Test RMSE :  0.100390291344\n",
      "Fold :  5\n",
      "Training RMSE :  0.103294452926\n",
      "Test RMSE :  0.107301128015\n",
      "Fold :  6\n",
      "Training RMSE :  0.104056690265\n",
      "Test RMSE :  0.100458245785\n",
      "Fold :  7\n",
      "Training RMSE :  0.103304044324\n",
      "Test RMSE :  0.107216917862\n",
      "Fold :  8\n",
      "Training RMSE :  0.104054198375\n",
      "Test RMSE :  0.100482659732\n",
      "Fold :  9\n",
      "Training RMSE :  0.1033002603\n",
      "Test RMSE :  0.10725446069\n",
      "Fold :  10\n",
      "Training RMSE :  0.104109398463\n",
      "Test RMSE :  0.09996116867\n"
     ]
    }
   ],
   "source": [
    "regressor = LinearRegression()\n",
    "tr_l,ts_l,bestModel_mi = perform_10fold(X_mi,y,regressor)"
   ]
  },
  {
   "cell_type": "code",
   "execution_count": 38,
   "metadata": {},
   "outputs": [
    {
     "data": {
      "image/png": "[encoded data removed]",
      "text/plain": [
       "<matplotlib.figure.Figure at 0x273bef5bfd0>"
      ]
     },
     "metadata": {},
     "output_type": "display_data"
    }
   ],
   "source": [
    "predicted = bestModel_mi.predict(X_mi)\n",
    "fig, ax = plt.subplots()\n",
    "ax.scatter(y, predicted,color='blue')\n",
    "#ax.plot([y_new.min(), y_new.max()], [y_new.min(), y_new.max()], 'k--', lw=4)\n",
    "ax.set_xlabel('Actual')\n",
    "ax.set_ylabel('Fitted')\n",
    "plt.show()"
   ]
  },
  {
   "cell_type": "code",
   "execution_count": 39,
   "metadata": {},
   "outputs": [
    {
     "data": {
      "image/png": "[encoded data removed]",
      "text/plain": [
       "<matplotlib.figure.Figure at 0x273dac590f0>"
      ]
     },
     "metadata": {},
     "output_type": "display_data"
    }
   ],
   "source": [
    "plt.title('Residuals vs Fitted')\n",
    "plt.xlabel('Fitted')\n",
    "plt.ylabel('Residuals')\n",
    "plt.scatter(predicted, y - predicted, color='blue', lw=1, label='residual')\n",
    "#plt.plot([y_new.min(), y_new.max()], [0,0], 'k--', lw=4)\n",
    "plt.show()"
   ]
  },
  {
   "cell_type": "code",
   "execution_count": null,
   "metadata": {
    "collapsed": true
   },
   "outputs": [],
   "source": []
  }
 ],
 "metadata": {
  "kernelspec": {
   "display_name": "Python 3",
   "language": "python",
   "name": "python3"
  },
  "language_info": {
   "codemirror_mode": {
    "name": "ipython",
    "version": 3
   },
   "file_extension": ".py",
   "mimetype": "text/x-python",
   "name": "python",
   "nbconvert_exporter": "python",
   "pygments_lexer": "ipython3",
   "version": "3.6.2"
  }
 },
 "nbformat": 4,
 "nbformat_minor": 2
}
