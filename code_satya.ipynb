{
 "cells": [
  {
   "cell_type": "code",
   "execution_count": 5,
   "metadata": {
    "collapsed": true
   },
   "outputs": [],
   "source": [
    "import pandas as pd\n",
    "import matplotlib.pyplot as plt\n",
    "import numpy as np\n",
    "from collections import Counter, defaultdict\n",
    "from sklearn.metrics import roc_curve, auc\n",
    "from sklearn import preprocessing\n",
    "from sklearn.neural_network import MLPRegressor\n",
    "from sklearn.model_selection import KFold\n",
    "from sklearn.linear_model import LinearRegression\n",
    "from sklearn.metrics import mean_squared_error\n",
    "from sklearn.model_selection import cross_val_predict\n",
    "from sklearn.model_selection import train_test_split\n",
    "from sklearn.neighbors import KNeighborsRegressor"
   ]
  },
  {
   "cell_type": "code",
   "execution_count": 6,
   "metadata": {
    "collapsed": true
   },
   "outputs": [],
   "source": [
    "dataset = pd.read_csv('network_backup_dataset.csv')"
   ]
  },
  {
   "cell_type": "code",
   "execution_count": 7,
   "metadata": {
    "collapsed": true
   },
   "outputs": [],
   "source": [
    "def getX_Y_from_dataset(dataset):\n",
    "    Y = (dataset['Size of Backup (GB)'].as_matrix())\n",
    "    X = dataset.drop(['Size of Backup (GB)'],axis=1)\n",
    "    return X,Y"
   ]
  },
  {
   "cell_type": "code",
   "execution_count": 8,
   "metadata": {
    "collapsed": true
   },
   "outputs": [],
   "source": [
    "def one_hot_encode(dataset):\n",
    "    le = preprocessing.LabelEncoder()\n",
    "    dataset_cat = dataset.select_dtypes(include=[object])\n",
    "    dataset_cat.head()\n",
    "    dataset_cat = dataset_cat.apply(le.fit_transform)\n",
    "    oh_enc = preprocessing.OneHotEncoder()\n",
    "    oh_enc.fit(dataset_cat)\n",
    "    onehotlabels = oh_enc.transform(dataset_cat)\n",
    "    cat_array = onehotlabels.toarray()\n",
    "    dataset_no_cat = dataset.select_dtypes(exclude=[object])\n",
    "    non_cat_array = dataset_no_cat.as_matrix()\n",
    "    return np.concatenate((non_cat_array,cat_array),axis = 1)\n",
    "    "
   ]
  },
  {
   "cell_type": "code",
   "execution_count": 9,
   "metadata": {
    "collapsed": true
   },
   "outputs": [],
   "source": [
    "def perform_10fold(X,y,regressor):\n",
    "    kf = KFold(n_splits=10,random_state = 0)\n",
    "    i = 1\n",
    "    bestModel = None\n",
    "    tr_e = 0\n",
    "    ts_e = 0\n",
    "    min_ts_e = 10\n",
    "    for train_index, test_index in kf.split(X):\n",
    "        #print(\"Fold : \",i)\n",
    "        X_train, X_test = X[train_index], X[test_index]\n",
    "        y_train, y_test = y[train_index], y[test_index]\n",
    "        regressor.fit(X_train,y_train)\n",
    "        train_preds = regressor.predict(X_train)\n",
    "        test_preds = regressor.predict(X_test)\n",
    "        test_error = mean_squared_error(y_test,test_preds)\n",
    "        tr_e += mean_squared_error(y_train,train_preds)\n",
    "        ts_e += test_error\n",
    "        if(test_error<min_ts_e):\n",
    "            min_ts_e = test_error\n",
    "            bestModel = regressor\n",
    "        i = i+1\n",
    "    return np.sqrt(tr_e/10),np.sqrt(ts_e/10), bestModel"
   ]
  },
  {
   "cell_type": "code",
   "execution_count": 10,
   "metadata": {
    "collapsed": true
   },
   "outputs": [],
   "source": [
    "X,Y= getX_Y_from_dataset(dataset)"
   ]
  },
  {
   "cell_type": "code",
   "execution_count": 11,
   "metadata": {
    "collapsed": true
   },
   "outputs": [],
   "source": [
    "X =one_hot_encode(X)"
   ]
  },
  {
   "cell_type": "code",
   "execution_count": 12,
   "metadata": {
    "collapsed": true
   },
   "outputs": [],
   "source": [
    "def analyse_nn_regressor(layers,max_layer_size,interval):\n",
    "    train_map = defaultdict(list)\n",
    "    test_map = defaultdict(list)\n",
    "    for activation_ in ['identity', 'logistic', 'tanh', 'relu']:\n",
    "        for hidden_size in range(1,max_layer_size,interval):\n",
    "            print('size_',hidden_size,'activation function:',activation_)\n",
    "            mlp_reg = MLPRegressor(hidden_layer_sizes=tuple([hidden_size]*layers),activation=activation_,random_state=1)\n",
    "            train_rmses,test_rmses,m=perform_10fold(X,Y,mlp_reg)\n",
    "            print(train_rmses,test_rmses)\n",
    "            train_map[activation_].append(train_rmses)\n",
    "            test_map[activation_].append(test_rmses)\n",
    "    for algo in test_map:\n",
    "        plt.plot(range(1,max_layer_size,interval),test_map[algo], label = algo, marker='.',markersize=4)\n",
    "    plt.title('Neural Network Regression Performance | size ='+str(tuple([hidden_size]*layers)))\n",
    "    plt.legend()\n",
    "    plt.show()\n",
    "            "
   ]
  },
  {
   "cell_type": "code",
   "execution_count": 9,
   "metadata": {},
   "outputs": [
    {
     "name": "stdout",
     "output_type": "stream",
     "text": [
      "size_ 1 activation function: identity\n",
      "0.072005532912 0.072146242817\n",
      "size_ 3 activation function: identity\n",
      "0.0836151658933 0.0840780598145\n",
      "size_ 5 activation function: identity\n",
      "0.0719051483461 0.0720391530713\n",
      "size_ 7 activation function: identity\n",
      "0.0715887250206 0.0717712064863\n",
      "size_ 9 activation function: identity\n",
      "0.0719757965208 0.0718618720666\n",
      "size_ 11 activation function: identity\n",
      "0.0716516431844 0.0717921437315\n",
      "size_ 13 activation function: identity\n",
      "0.0722879651392 0.0723530350844\n",
      "size_ 15 activation function: identity\n",
      "0.0719895276256 0.0720522900203\n",
      "size_ 17 activation function: identity\n",
      "0.0748533223 0.0754651816754\n",
      "size_ 19 activation function: identity\n",
      "0.071526006302 0.0716279025241\n",
      "size_ 1 activation function: logistic\n",
      "0.102868116082 0.102893001579\n",
      "size_ 3 activation function: logistic\n",
      "0.103898395113 0.103899446465\n",
      "size_ 5 activation function: logistic\n",
      "0.101584804165 0.101593964124\n",
      "size_ 7 activation function: logistic\n",
      "0.0509370062533 0.0513797633866\n",
      "size_ 9 activation function: logistic\n",
      "0.102341545182 0.102345297838\n",
      "size_ 11 activation function: logistic\n",
      "0.0380391310267 0.0383444089418\n",
      "size_ 13 activation function: logistic\n",
      "0.040037012255 0.0406673680932\n",
      "size_ 15 activation function: logistic\n",
      "0.0423296062061 0.0432452792389\n",
      "size_ 17 activation function: logistic\n",
      "0.0397304411403 0.0404521409767\n",
      "size_ 19 activation function: logistic\n",
      "0.0376019848438 0.038344049781\n",
      "size_ 1 activation function: tanh\n",
      "0.106631152492 0.107867888801\n",
      "size_ 3 activation function: tanh\n",
      "0.088146951283 0.089569762454\n",
      "size_ 5 activation function: tanh\n",
      "0.0834734977973 0.084952305527\n",
      "size_ 7 activation function: tanh\n",
      "0.0422942442983 0.0494507581349\n",
      "size_ 9 activation function: tanh\n",
      "0.0390776282715 0.0416776460985\n",
      "size_ 11 activation function: tanh\n",
      "0.0378425686957 0.0396075785797\n",
      "size_ 13 activation function: tanh\n",
      "0.0362606275238 0.0383343744087\n",
      "size_ 15 activation function: tanh\n",
      "0.0389729359361 0.0428446252576\n",
      "size_ 17 activation function: tanh\n",
      "0.0378018691018 0.040452169377\n",
      "size_ 19 activation function: tanh\n",
      "0.0363314272428 0.0389246220928\n",
      "size_ 1 activation function: relu\n",
      "0.104219221063 0.104219602831\n",
      "size_ 3 activation function: relu\n",
      "0.104195957506 0.10446720241\n",
      "size_ 5 activation function: relu\n",
      "0.0567487145119 0.057407677444\n",
      "size_ 7 activation function: relu\n",
      "0.074893481532 0.077072893362\n",
      "size_ 9 activation function: relu\n",
      "0.103858581649 0.107413197814\n",
      "size_ 11 activation function: relu\n",
      "0.0364177162457 0.037643329433\n",
      "size_ 13 activation function: relu\n",
      "0.0353558029097 0.0372592525809\n",
      "size_ 15 activation function: relu\n",
      "0.0525346121359 0.0556375546051\n",
      "size_ 17 activation function: relu\n",
      "0.0370017482671 0.0412417713271\n",
      "size_ 19 activation function: relu\n",
      "0.0335128190495 0.036776724339\n"
     ]
    },
    {
     "data": {
      "image/png": "[encoded data removed]",
      "text/plain": [
       "<matplotlib.figure.Figure at 0x10b0c7f60>"
      ]
     },
     "metadata": {},
     "output_type": "display_data"
    }
   ],
   "source": [
    "analyse_nn_regressor(3,20,2)"
   ]
  },
  {
   "cell_type": "markdown",
   "metadata": {},
   "source": [
    "## KNN"
   ]
  },
  {
   "cell_type": "code",
   "execution_count": 14,
   "metadata": {},
   "outputs": [
    {
     "name": "stdout",
     "output_type": "stream",
     "text": [
      "Neighbors: 1\n",
      "Neighbors: 2\n",
      "Neighbors: 3\n",
      "Neighbors: 4\n",
      "Neighbors: 5\n",
      "Neighbors: 6\n",
      "Neighbors: 7\n",
      "Neighbors: 8\n",
      "Neighbors: 9\n",
      "Neighbors: 10\n",
      "Neighbors: 11\n",
      "Neighbors: 12\n",
      "Neighbors: 13\n",
      "Neighbors: 14\n",
      "Neighbors: 15\n",
      "Neighbors: 16\n",
      "Neighbors: 17\n",
      "Neighbors: 18\n",
      "Neighbors: 19\n"
     ]
    }
   ],
   "source": [
    "errors = []\n",
    "for neighbors in range(1,20):\n",
    "    print(\"Neighbors:\",neighbors)\n",
    "    knn_model = KNeighborsRegressor(neighbors)\n",
    "    tr,ts,m = perform_10fold(X,Y,knn_model)\n",
    "    errors.append(ts)\n",
    "    \n",
    "    "
   ]
  },
  {
   "cell_type": "code",
   "execution_count": 15,
   "metadata": {},
   "outputs": [
    {
     "data": {
      "image/png": "[encoded data removed]",
      "text/plain": [
       "<matplotlib.figure.Figure at 0x1175e67b8>"
      ]
     },
     "metadata": {},
     "output_type": "display_data"
    }
   ],
   "source": [
    "plt.plot(errors)\n",
    "plt.show()"
   ]
  },
  {
   "cell_type": "code",
   "execution_count": 20,
   "metadata": {
    "collapsed": true
   },
   "outputs": [],
   "source": [
    "workflow_datasets=[dataset.loc[dataset['Work-Flow-ID'] == x] for x in  set(list(dataset['Work-Flow-ID'].values))]\n",
    "workflow_datasets_xy = [getX_Y_from_dataset(d) for d in workflow_datasets] \n",
    "workflow_datasets_xy_oh = [(one_hot_encode(x[0]),x[1]) for x in workflow_datasets_xy]"
   ]
  }
 ],
 "metadata": {
  "kernelspec": {
   "display_name": "Python 3",
   "language": "python",
   "name": "python3"
  },
  "language_info": {
   "codemirror_mode": {
    "name": "ipython",
    "version": 3
   },
   "file_extension": ".py",
   "mimetype": "text/x-python",
   "name": "python",
   "nbconvert_exporter": "python",
   "pygments_lexer": "ipython3",
   "version": "3.6.4"
  }
 },
 "nbformat": 4,
 "nbformat_minor": 2
}
