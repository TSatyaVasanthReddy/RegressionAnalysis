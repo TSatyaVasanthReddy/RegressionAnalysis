{
 "cells": [
  {
   "cell_type": "code",
   "execution_count": 93,
   "metadata": {
    "collapsed": true
   },
   "outputs": [],
   "source": [
    "import pandas as pd\n",
    "import matplotlib.pyplot as plt\n",
    "import numpy as np\n",
    "from collections import Counter, defaultdict\n",
    "from sklearn.metrics import roc_curve, auc\n",
    "from sklearn import preprocessing\n",
    "from sklearn.neural_network import MLPRegressor\n",
    "from sklearn.model_selection import KFold\n",
    "from sklearn.linear_model import LinearRegression\n",
    "from sklearn.metrics import mean_squared_error\n",
    "from sklearn.model_selection import cross_val_predict\n",
    "from sklearn.model_selection import train_test_split"
   ]
  },
  {
   "cell_type": "code",
   "execution_count": 29,
   "metadata": {
    "collapsed": true
   },
   "outputs": [],
   "source": [
    "dataset = pd.read_csv('network_backup_dataset.csv')"
   ]
  },
  {
   "cell_type": "code",
   "execution_count": 64,
   "metadata": {},
   "outputs": [
    {
     "data": {
      "text/plain": [
       "Index(['Week #', 'Day of Week', 'Backup Start Time - Hour of Day',\n",
       "       'Work-Flow-ID', 'File Name', 'Size of Backup (GB)',\n",
       "       'Backup Time (hour)'],\n",
       "      dtype='object')"
      ]
     },
     "execution_count": 64,
     "metadata": {},
     "output_type": "execute_result"
    }
   ],
   "source": [
    "dataset.columns"
   ]
  },
  {
   "cell_type": "code",
   "execution_count": 79,
   "metadata": {
    "collapsed": true
   },
   "outputs": [],
   "source": [
    "def getX_Y_from_dataset(dataset):\n",
    "    Y = (dataset['Size of Backup (GB)'].as_matrix())\n",
    "    X = dataset.drop(['Size of Backup (GB)'],axis=1)\n",
    "    return X,Y"
   ]
  },
  {
   "cell_type": "code",
   "execution_count": 62,
   "metadata": {
    "collapsed": true
   },
   "outputs": [],
   "source": [
    "def one_hot_encode(dataset):\n",
    "    le = preprocessing.LabelEncoder()\n",
    "    dataset_cat = dataset.select_dtypes(include=[object])\n",
    "    dataset_cat.head()\n",
    "    dataset_cat = dataset_cat.apply(le.fit_transform)\n",
    "    oh_enc = preprocessing.OneHotEncoder()\n",
    "    oh_enc.fit(dataset_cat)\n",
    "    onehotlabels = oh_enc.transform(dataset_cat)\n",
    "    cat_array = onehotlabels.toarray()\n",
    "    dataset_no_cat = dataset.select_dtypes(exclude=[object])\n",
    "    non_cat_array = dataset_no_cat.as_matrix()\n",
    "    return np.concatenate((non_cat_array,cat_array),axis = 1)\n",
    "    "
   ]
  },
  {
   "cell_type": "code",
   "execution_count": 96,
   "metadata": {
    "collapsed": true
   },
   "outputs": [],
   "source": [
    "def perform_10fold(X,y,regressor):\n",
    "    kf = KFold(n_splits=10,random_state = 0)\n",
    "    i = 1\n",
    "    tr_l = []\n",
    "    ts_l = []\n",
    "    for train_index, test_index in kf.split(X):\n",
    "        print(\"Fold : \",i)\n",
    "        X_train, X_test = X[train_index], X[test_index]\n",
    "        y_train, y_test = y[train_index], y[test_index]\n",
    "        regressor.fit(X_train,y_train)\n",
    "        train_preds = regressor.predict(X_train)\n",
    "        test_preds = regressor.predict(X_test)\n",
    "        tr_l.append(np.sqrt(mean_squared_error(y_train,train_preds)))\n",
    "        ts_l.append(np.sqrt(mean_squared_error(y_test,test_preds)))\n",
    "        print(\"Training RMSE : \",np.sqrt(mean_squared_error(y_train,train_preds)))\n",
    "        print(\"Test RMSE : \",np.sqrt(mean_squared_error(y_test,test_preds)))\n",
    "        i = i+1\n",
    "    return tr_l,ts_l"
   ]
  },
  {
   "cell_type": "code",
   "execution_count": 88,
   "metadata": {
    "collapsed": true
   },
   "outputs": [],
   "source": [
    "X,Y= getX_Y_from_dataset(dataset)"
   ]
  },
  {
   "cell_type": "code",
   "execution_count": 89,
   "metadata": {},
   "outputs": [],
   "source": [
    "X =one_hot_encode(X)"
   ]
  },
  {
   "cell_type": "code",
   "execution_count": 90,
   "metadata": {
    "collapsed": true
   },
   "outputs": [],
   "source": [
    "mlp_reg = MLPRegressor(hidden_layer_sizes=1)"
   ]
  },
  {
   "cell_type": "code",
   "execution_count": 91,
   "metadata": {},
   "outputs": [
    {
     "data": {
      "text/plain": [
       "MLPRegressor(activation='relu', alpha=0.0001, batch_size='auto', beta_1=0.9,\n",
       "       beta_2=0.999, early_stopping=False, epsilon=1e-08,\n",
       "       hidden_layer_sizes=1, learning_rate='constant',\n",
       "       learning_rate_init=0.001, max_iter=200, momentum=0.9,\n",
       "       nesterovs_momentum=True, power_t=0.5, random_state=None,\n",
       "       shuffle=True, solver='adam', tol=0.0001, validation_fraction=0.1,\n",
       "       verbose=False, warm_start=False)"
      ]
     },
     "execution_count": 91,
     "metadata": {},
     "output_type": "execute_result"
    }
   ],
   "source": [
    "mlp_reg.fit(X,Y)"
   ]
  },
  {
   "cell_type": "code",
   "execution_count": null,
   "metadata": {},
   "outputs": [
    {
     "name": "stdout",
     "output_type": "stream",
     "text": [
      "Fold :  1\n",
      "Training RMSE :  0.104223629304\n",
      "Test RMSE :  0.107425109179\n",
      "Fold :  2\n",
      "Training RMSE :  0.104509635921\n",
      "Test RMSE :  0.100696507812\n",
      "Fold :  3\n",
      "Training RMSE :  0.104154273774\n",
      "Test RMSE :  0.10752319127\n",
      "Fold :  4\n",
      "Training RMSE :  0.0719043625662\n",
      "Test RMSE :  0.0676922993777\n",
      "Fold :  5\n",
      "Training RMSE :  0.0710226353073\n",
      "Test RMSE :  0.0753779882999\n",
      "Fold :  6\n",
      "Training RMSE :  0.0719763600554\n",
      "Test RMSE :  0.0682230049709\n",
      "Fold :  7\n",
      "Training RMSE :  0.103980760482\n",
      "Test RMSE :  0.107579877228\n",
      "Fold :  8\n",
      "Training RMSE :  0.0720445684561\n",
      "Test RMSE :  0.0685736620261\n",
      "Fold :  9\n",
      "Training RMSE :  0.107366275619\n",
      "Test RMSE :  0.118365669163\n",
      "Fold :  10\n"
     ]
    }
   ],
   "source": [
    "train_rmses,test_rmses=perform_10fold(X,Y,mlp_reg)"
   ]
  },
  {
   "cell_type": "code",
   "execution_count": null,
   "metadata": {
    "collapsed": true
   },
   "outputs": [],
   "source": []
  }
 ],
 "metadata": {
  "kernelspec": {
   "display_name": "Python 3",
   "language": "python",
   "name": "python3"
  },
  "language_info": {
   "codemirror_mode": {
    "name": "ipython",
    "version": 3
   },
   "file_extension": ".py",
   "mimetype": "text/x-python",
   "name": "python",
   "nbconvert_exporter": "python",
   "pygments_lexer": "ipython3",
   "version": "3.6.3"
  }
 },
 "nbformat": 4,
 "nbformat_minor": 2
}
