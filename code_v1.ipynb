{
 "cells": [
  {
   "cell_type": "code",
   "execution_count": 2,
   "metadata": {
    "collapsed": true
   },
   "outputs": [],
   "source": [
    "import pandas as pd\n",
    "import matplotlib.pyplot as plt\n",
    "import numpy as np\n",
    "from collections import Counter, defaultdict\n",
    "from sklearn.metrics import roc_curve, auc\n",
    "from surprise.prediction_algorithms.matrix_factorization import NMF,SVD"
   ]
  },
  {
   "cell_type": "code",
   "execution_count": 3,
   "metadata": {
    "collapsed": true
   },
   "outputs": [],
   "source": [
    "dataset = pd.read_csv('network_backup_dataset.csv')"
   ]
  },
  {
   "cell_type": "code",
   "execution_count": 4,
   "metadata": {},
   "outputs": [],
   "source": [
    "dataset_dict = dataset.to_dict()\n",
    "weekday_to_num = {'Monday':0,'Tuesday':1,'Wednesday':2,'Thursday':3,'Friday':4,'Saturday':5,'Sunday':6}"
   ]
  },
  {
   "cell_type": "code",
   "execution_count": 20,
   "metadata": {
    "collapsed": true
   },
   "outputs": [],
   "source": [
    "def get_modified_datadict(dataset):\n",
    "    dataset_dict = {}\n",
    "    dataset_dict = dataset.to_dict()\n",
    "    i =0\n",
    "    for key in dataset_dict['Day of Week']:\n",
    "        dataset_dict['Day of Week'][key] = weekday_to_num[dataset_dict['Day of Week'][key]]\n",
    "    for key in dataset_dict['Work-Flow-ID']:\n",
    "        #print(((dataset_dict['Work-Flow-ID'][key]).split('_')[-1]))\n",
    "        dataset_dict['Work-Flow-ID'][key] = int((dataset_dict['Work-Flow-ID'][key]).split('_')[-1])\n",
    "    for key in dataset_dict['File Name']:\n",
    "        dataset_dict['File Name'][key] = int((dataset_dict['File Name'][key]).split('_')[-1])\n",
    "    #print(dataset_dict['Day of Week'])\n",
    "    return dataset_dict"
   ]
  },
  {
   "cell_type": "code",
   "execution_count": 23,
   "metadata": {},
   "outputs": [],
   "source": [
    "converted_dataset = get_modified_datadict(dataset)"
   ]
  },
  {
   "cell_type": "code",
   "execution_count": null,
   "metadata": {
    "collapsed": true
   },
   "outputs": [],
   "source": []
  }
 ],
 "metadata": {
  "kernelspec": {
   "display_name": "Python 3",
   "language": "python",
   "name": "python3"
  },
  "language_info": {
   "codemirror_mode": {
    "name": "ipython",
    "version": 3
   },
   "file_extension": ".py",
   "mimetype": "text/x-python",
   "name": "python",
   "nbconvert_exporter": "python",
   "pygments_lexer": "ipython3",
   "version": "3.6.4"
  }
 },
 "nbformat": 4,
 "nbformat_minor": 2
}
